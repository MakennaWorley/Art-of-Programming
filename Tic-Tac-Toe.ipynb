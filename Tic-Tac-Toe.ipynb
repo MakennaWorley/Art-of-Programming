{
  "nbformat": 4,
  "nbformat_minor": 0,
  "metadata": {
    "colab": {
      "provenance": []
    },
    "kernelspec": {
      "name": "python3",
      "display_name": "Python 3"
    },
    "language_info": {
      "name": "python"
    }
  },
  "cells": [
    {
      "cell_type": "markdown",
      "source": [
        "# Lab 1 - tic-tac-toe"
      ],
      "metadata": {
        "id": "VQprHIGYH_NG"
      }
    },
    {
      "cell_type": "markdown",
      "source": [
        "This is an **in-class pair-programming** activity. Please work with your partner and **submit** your file with answers and code to Canvas. "
      ],
      "metadata": {
        "id": "a5uuf9-SUT20"
      }
    },
    {
      "cell_type": "markdown",
      "source": [
        "Partners: Makenna and Shreeya"
      ],
      "metadata": {
        "id": "ucrWMD4scEbn"
      }
    },
    {
      "cell_type": "markdown",
      "source": [
        "## Problem-Solving Skills in Programming\n",
        "\n",
        "Basically, they are divided into four categories [1]:\n",
        "\n",
        "- Analysing the problem\n",
        "- Developing the algorithm\n",
        "- Coding\n",
        "- Testing and debugging"
      ],
      "metadata": {
        "id": "ycuYGz7HOQRZ"
      }
    },
    {
      "cell_type": "markdown",
      "source": [
        "[Tic-Tac-Toe](https://playtictactoe.org/) is a popular game. Here is the rule of the game:\n",
        "\n",
        "Sure! Here are the rules of Tic-Tac-Toe:\n",
        "\n",
        "1. The game is played on a 3x3 grid.\n",
        "\n",
        "2. Two players participate in the game, usually referred to as \"X\" and \"O\". \"X\" always goes first.\n",
        "\n",
        "3. Players take turns placing their respective marks (either \"X\" or \"O\") on an empty cell of the grid.\n",
        "\n",
        "4. The objective of the game is to form a horizontal, vertical, or diagonal line of three of their marks.\n",
        "\n",
        "5. The game ends when either one of the players achieves the winning condition or there are no empty cells left on the grid (resulting in a tie).\n",
        "\n",
        "In this activity, we are going to build a python code to play tic-tac-toe step by step. "
      ],
      "metadata": {
        "id": "w4H9b0Q2IOuG"
      }
    },
    {
      "cell_type": "markdown",
      "source": [
        "## Step 1: Initialize the Game.\n",
        "\n",
        "- What overall structure of your code, like building a class?\n",
        "- How would you start the game? What components or variables do you need to initialize?\n",
        "- What data structure could you use to represent the game board?\n",
        "- How would you represent two players?\n"
      ],
      "metadata": {
        "id": "pOjvpSWtJA3a"
      }
    },
    {
      "cell_type": "markdown",
      "source": [
        "**Write your answer here:** We can build a class that makes a tic-tac-toe board. We can also build a class that represents the players. So we will define 2 different classes. We start the game with an empty board (_), initialize two different letters (X and O) as players. We could use a numpy array to store the location for where X and O's have been places. It will be easier to access the placements without using a nested for loop. We use a 2-D list(three lists of three length) to represent the board because we want it to be mutable. Lastly, we represent the two players as icons of X and O."
      ],
      "metadata": {
        "id": "K0EEb360MeQd"
      }
    },
    {
      "cell_type": "markdown",
      "source": [
        "## Step 2: Print the Game Board\n",
        "\n",
        "- How would you display the game board on the screen?\n",
        "- Which programming construct(s) would you use to iterate through the board and print each cell?"
      ],
      "metadata": {
        "id": "OztpdSd3INOx"
      }
    },
    {
      "cell_type": "markdown",
      "source": [
        "**Write your answer here:** We just print out the board:\n",
        "\n",
        "  board = [['_'] * 3 for i in range(3)\\n]\n",
        "  \n",
        "  board\n",
        "\n",
        "We would iterate through the board using a for loop"
      ],
      "metadata": {
        "id": "kMBCwYCqMpPK"
      }
    },
    {
      "cell_type": "markdown",
      "source": [
        "## Step 3: Get Player Input\n",
        "\n",
        "- How would you prompt the player to enter their move (row and column)?\n",
        "- How would you validate the player's input to ensure it is within the board's range and the selected cell is empty?"
      ],
      "metadata": {
        "id": "4zZkqr2UJ4Ja"
      }
    },
    {
      "cell_type": "markdown",
      "source": [
        "**Write your answer here:** We take the users input using input and store it in our numpy array labeled X and O. So after we take the input and before we put it in our numpy array, we need to check if the input entered is already in X or O, whether that is even empty.\n",
        "\n",
        "We could avoid checking those by prompting the user to choose the location by only showing the available locations, and the user would have to enter somthing like 4,5.\n",
        "\n",
        "1 2 X\n",
        "\n",
        "4 5 6 \n",
        "\n",
        "7 8 9\n"
      ],
      "metadata": {
        "id": "AGrLbLNGM7sM"
      }
    },
    {
      "cell_type": "markdown",
      "source": [
        "## Step 4: Check for a Winner\n",
        "\n",
        "- What conditions determine if a player has won the game?\n",
        "- How would you check for these conditions by examining the rows, columns, and diagonals?"
      ],
      "metadata": {
        "id": "C3VE2D-HJ4MV"
      }
    },
    {
      "cell_type": "markdown",
      "source": [
        "**Write your answer here:**\n",
        "\n",
        "For loop, for all rows to be independently. If row is full, check if all values match\n",
        "\n",
        "For loop, for all cols to be independently. If col is full, check if all values match \n",
        "\n",
        "If rightD is full, check if all values match\n",
        "\n",
        "If leftD is full, check if all values match"
      ],
      "metadata": {
        "id": "LVuoClJuM82Z"
      }
    },
    {
      "cell_type": "markdown",
      "source": [
        "## Step 5: Check for a Tie\n",
        "\n",
        "- When is the game considered a tie?\n",
        "- What condition(s) would you check to determine if the game is a tie?"
      ],
      "metadata": {
        "id": "OtSvYW-OJ4PV"
      }
    },
    {
      "cell_type": "markdown",
      "source": [
        "**Write your answer here:** \n",
        "\n",
        "We can have a method to check if there is any possible way to win, if not and/or the board is full, the game ends as tie"
      ],
      "metadata": {
        "id": "KnkBszS_M9xS"
      }
    },
    {
      "cell_type": "markdown",
      "source": [
        "## Step 6: Main Game Loop\n",
        "\n",
        "- How would you structure the main loop of the game to continue until the game is over?\n",
        "- What steps would you include in each iteration of the loop?"
      ],
      "metadata": {
        "id": "9vI3cxlyJ4Se"
      }
    },
    {
      "cell_type": "markdown",
      "source": [
        "**Write your answer here:**\n",
        "\n",
        "If the game can have a winner, continue\n",
        "\n",
        "Else declare tie and end"
      ],
      "metadata": {
        "id": "uoBQi287YWVj"
      }
    },
    {
      "cell_type": "markdown",
      "source": [
        "**Write your pseudocode here:**\n",
        "\n",
        "```\n",
        "class game():\n",
        "  print the board in def make_board()\n",
        "  use a list for all possible options (override the list), x list for all x's and o list for all o's (using append), then reprint the board.\n",
        "  input from user\n",
        "  get player number (X or O)\n",
        "  check if the input is a number, then use a match case for the placement\n",
        "  check if game can have a winner (while loop),\n",
        "  if True, game moves on. Else, stop game and call tie\n",
        "  ```\n"
      ],
      "metadata": {
        "id": "gL0bQymKSYF8"
      }
    },
    {
      "cell_type": "markdown",
      "source": [
        "# Write your code here to build the whole game:\n"
      ],
      "metadata": {
        "id": "VhzMzmDvJsN-"
      }
    },
    {
      "cell_type": "markdown",
      "source": [
        "## Step 7: Run the Game\n",
        "\n",
        "- How would you start the game? What function or method would you call to begin the game loop?\n"
      ],
      "metadata": {
        "id": "YfllmrIWJ4Vm"
      }
    },
    {
      "cell_type": "markdown",
      "source": [
        "**Write your answer here:**\n",
        "\n",
        "We need a while loop to keep the game running after it starts, and it will only stop if there is a winner or a draw."
      ],
      "metadata": {
        "id": "Umt2Q1_hNEqs"
      }
    },
    {
      "cell_type": "code",
      "source": [
        "class game():\n",
        "  def __init__(self):\n",
        "    self.board = {}\n",
        "    self.used = []\n",
        "\n",
        "  def __contains__(self, key):\n",
        "        return key.upper() in self.data\n",
        "\n",
        "  def createBoard(self): #this is creating our board that is a dictionary\n",
        "    boardDict = {1: \"-\", 2: \"-\", 3: \"-\",\n",
        "               4: \"-\", 5: \"-\", 6: \"-\",\n",
        "               7: \"-\", 8: \"-\", 9: \"-\"}\n",
        "    self.board.update(boardDict)\n",
        "\n",
        "  def numberedBoard(self): #this is creating our board that has numbers in place of - for player reference\n",
        "    numDict = {1: \"1\", 2: \"2\", 3: \"3\",\n",
        "               4: \"4\", 5: \"5\", 6: \"6\",\n",
        "               7: \"7\", 8: \"8\", 9: \"9\"}\n",
        "    print(f'{numDict[1]} {numDict[2]} {numDict[3]}')\n",
        "    print(f'{numDict[4]} {numDict[5]} {numDict[6]}')\n",
        "    print(f'{numDict[7]} {numDict[8]} {numDict[9]}')\n",
        "\n",
        "  def getBoard(self): #this is printing our board\n",
        "    print(f'{self.board[1]} {self.board[2]} {self.board[3]}')\n",
        "    print(f'{self.board[4]} {self.board[5]} {self.board[6]}')\n",
        "    print(f'{self.board[7]} {self.board[8]} {self.board[9]}')\n",
        "\n",
        "  def placeLetter(self, square, letter): #We are placing the letters (X and O) in the board\n",
        "    if (0 < int(square) <= 9): #check if square is int\n",
        "      if square in self.used: #checking for if the square is filled\n",
        "        print(\"\\nThis square has already been occupied, choose another.\")\n",
        "        return False\n",
        "      else:\n",
        "        self.board[square] = letter\n",
        "        self.used.append(square)\n",
        "        return True\n",
        "    else:\n",
        "      print(\"\\nInvalid number for the board placement.\")\n",
        "\n",
        "  def winner(self, letter):\n",
        "    hasWon = False\n",
        "    if (self.board[1] == self.board[2] == self.board[3] == letter or\n",
        "        self.board[4] == self.board[5] == self.board[6] == letter or\n",
        "        self.board[7] == self.board[8] == self.board[9] == letter or\n",
        "        self.board[1] == self.board[4] == self.board[7] == letter or\n",
        "        self.board[2] == self.board[5] == self.board[8] == letter or\n",
        "        self.board[3] == self.board[6] == self.board[9] == letter or\n",
        "        self.board[1] == self.board[5] == self.board[9] == letter or\n",
        "        self.board[3] == self.board[5] == self.board[7] == letter):\n",
        "      hasWon = True\n",
        "      return hasWon\n",
        "\n",
        "  def full(self):\n",
        "    for square in range(1,10):\n",
        "      if self.board[square] == '-': #spaces in board is still empty\n",
        "        return False\n",
        "    return True\n",
        "\n",
        "  def start(self):\n",
        "    self.createBoard()\n",
        "    turn = 0\n",
        "    playOn = True\n",
        "    while playOn:\n",
        "      if turn%2 == 0:\n",
        "        letter = 'X'\n",
        "        player = 'Player 1'\n",
        "      else:\n",
        "        letter = 'O'\n",
        "        player = 'Player 2'\n",
        "      print(f\"{player}, playing {letter}\")\n",
        "      self.getBoard()\n",
        "\n",
        "      flag = False\n",
        "      while flag == False:\n",
        "        #need to print out the tic tac toe in letters\n",
        "        print(\"\\nFor your reference, here are the numbered squares\")\n",
        "        self.numberedBoard()\n",
        "\n",
        "        #taking the input\n",
        "        square = input(f\"\\nWhat square would you like to put {letter} on? \")\n",
        "        #check that the input is a number and then change it into int finally\n",
        "        if (square.isdecimal()):\n",
        "          flag = self.placeLetter(int(square), letter)\n",
        "        else:\n",
        "          print(\"Please enter an integer from 1 to 9\") #need to restart turn \n",
        "        self.getBoard()\n",
        "      \n",
        "      if (flag == True):\n",
        "        turn += 1\n",
        "      \n",
        "      #now checking for a win\n",
        "      if self.winner(letter):\n",
        "        print(f\"\\n{player} has won!\")\n",
        "        playOn = False\n",
        "        break\n",
        "      \n",
        "      #now checking for draw\n",
        "      if self.full():\n",
        "        print(\"It's a draw. Better luck next time!\")\n",
        "        playOn = False\n",
        "        break\n",
        "      print()\n"
      ],
      "metadata": {
        "id": "7pFd3wB2YkTA"
      },
      "execution_count": 12,
      "outputs": []
    },
    {
      "cell_type": "code",
      "source": [
        "game = game()\n",
        "game.start()\n"
      ],
      "metadata": {
        "id": "YcdqdFZ0AtNW"
      },
      "execution_count": null,
      "outputs": []
    },
    {
      "cell_type": "markdown",
      "source": [
        "## Step 8: Test the Game\n",
        "\n",
        "- How would you test the game to ensure it is working correctly?\n",
        "- What scenarios or edge cases would you consider when testing the game?"
      ],
      "metadata": {
        "id": "vaT4_BvIJ4Y_"
      }
    },
    {
      "cell_type": "markdown",
      "source": [
        "**Write your answer here:**\n",
        "\n",
        "We can test the game is working correctly by inputting either a number that is outside the boundary of 1-9, or by inputting a value that is not an integer; this should show us an error or ask for the input again.\n",
        "\n",
        "Another test is by choosing a square that is not empty. It should print out the error that the square is already occupied, choose another."
      ],
      "metadata": {
        "id": "E1BPb78iNFm_"
      }
    },
    {
      "cell_type": "markdown",
      "source": [
        "```\n",
        "game = game()\n",
        "game.start()\n",
        "```\n",
        "\n",
        "We can test our placeLetter function by inputting a number out of 1-9 bounds, and then inputting a letter instead of an integer.\n",
        "\n",
        "```\n",
        "Player 1, playing X\n",
        "- - -\n",
        "- - -\n",
        "- - -\n",
        "\n",
        "For your reference, here are the numbered squares\n",
        "1 2 3\n",
        "4 5 6\n",
        "7 8 9\n",
        "\n",
        "What square would you like to put X on? 0\n",
        "\n",
        "Invalid number for the board placement.\n",
        "- - -\n",
        "- - -\n",
        "- - -\n",
        "\n",
        "Player 1, playing X\n",
        "- - -\n",
        "- - -\n",
        "- - -\n",
        "\n",
        "For your reference, here are the numbered squares\n",
        "1 2 3\n",
        "4 5 6\n",
        "7 8 9\n",
        "\n",
        "What square would you like to put X on? \n",
        "\n",
        "```\n",
        "\n",
        "We can test by inputting an occupied square\n",
        "\n",
        "```\n",
        "Player 1, playing X\n",
        "- - -\n",
        "- - -\n",
        "- - -\n",
        "\n",
        "For your reference, here are the numbered squares\n",
        "1 2 3\n",
        "4 5 6\n",
        "7 8 9\n",
        "\n",
        "What square would you like to put X on? 5\n",
        "- - -\n",
        "- X -\n",
        "- - -\n",
        "\n",
        "Player 2, playing O\n",
        "- - -\n",
        "- X -\n",
        "- - -\n",
        "\n",
        "For your reference, here are the numbered squares\n",
        "1 2 3\n",
        "4 5 6\n",
        "7 8 9\n",
        "\n",
        "What square would you like to put O on? 5\n",
        "\n",
        "This square has already been occupied, choose another.\n",
        "- - -\n",
        "- X -\n",
        "- - -\n",
        "\n",
        "For your reference, here are the numbered squares\n",
        "1 2 3\n",
        "4 5 6\n",
        "7 8 9\n",
        "\n",
        "What square would you like to put O on? \n",
        "```"
      ],
      "metadata": {
        "id": "GtkoAmGayNPz"
      }
    },
    {
      "cell_type": "code",
      "source": [
        "# Write your code here to test the game:\n",
        "game = game()\n",
        "game.start()\n",
        "\n",
        "\n"
      ],
      "metadata": {
        "id": "cvwkq31XYsEU"
      },
      "execution_count": null,
      "outputs": []
    },
    {
      "cell_type": "markdown",
      "source": [
        "## Step 9: Enhancements\n",
        "\n",
        "- What additional features or improvements could you add to the game?\n",
        "- How would you implement these enhancements?"
      ],
      "metadata": {
        "id": "edUrAjF9J4cH"
      }
    },
    {
      "cell_type": "markdown",
      "source": [
        "**Write your answer here:**\n",
        "\n",
        "In order to enhance our tic-tac-toe, we are going to change the color of the string depending on what player's turn it is.\n",
        "\n",
        "We can implement this enhancement by importing the colorama package and then importing Fore from colorama."
      ],
      "metadata": {
        "id": "azrb6hiZNG6k"
      }
    },
    {
      "cell_type": "code",
      "source": [
        "!pip install colorama"
      ],
      "metadata": {
        "colab": {
          "base_uri": "https://localhost:8080/"
        },
        "id": "J9OYqg9hZdHg",
        "outputId": "259e9f6c-57b9-45a5-ee4f-f3e14585784c"
      },
      "execution_count": 26,
      "outputs": [
        {
          "output_type": "stream",
          "name": "stdout",
          "text": [
            "Looking in indexes: https://pypi.org/simple, https://us-python.pkg.dev/colab-wheels/public/simple/\n",
            "Requirement already satisfied: colorama in /usr/local/lib/python3.10/dist-packages (0.4.6)\n"
          ]
        }
      ]
    },
    {
      "cell_type": "code",
      "source": [
        "# Write your code here to refine the game:\n",
        "\n",
        "import colorama\n",
        "from colorama import Fore\n",
        "\n",
        "class game():\n",
        "  def __init__(self):\n",
        "    self.board = {}\n",
        "    self.used = []\n",
        "\n",
        "  def __contains__(self, key):\n",
        "        return key.upper() in self.data\n",
        "\n",
        "  def createBoard(self): #this is creating our board that is a dictionary\n",
        "    boardDict = {1: \"-\", 2: \"-\", 3: \"-\",\n",
        "               4: \"-\", 5: \"-\", 6: \"-\",\n",
        "               7: \"-\", 8: \"-\", 9: \"-\"}\n",
        "    self.board.update(boardDict)\n",
        "\n",
        "  def numberedBoard(self): #this is creating our board that has numbers in place of - for player reference\n",
        "    numDict = {1: \"1\", 2: \"2\", 3: \"3\",\n",
        "               4: \"4\", 5: \"5\", 6: \"6\",\n",
        "               7: \"7\", 8: \"8\", 9: \"9\"}\n",
        "    print(f'{numDict[1]} {numDict[2]} {numDict[3]}')\n",
        "    print(f'{numDict[4]} {numDict[5]} {numDict[6]}')\n",
        "    print(f'{numDict[7]} {numDict[8]} {numDict[9]}')\n",
        "\n",
        "  def getBoard(self): #this is printing our board\n",
        "    print(f'{self.board[1]} {self.board[2]} {self.board[3]}')\n",
        "    print(f'{self.board[4]} {self.board[5]} {self.board[6]}')\n",
        "    print(f'{self.board[7]} {self.board[8]} {self.board[9]}')\n",
        "\n",
        "  def placeLetter(self, square, letter): #We are placing the letters (X and O) in the board\n",
        "    if (0 < int(square) <= 9): #check if square is int\n",
        "      if square in self.used: #checking for if the square is filled\n",
        "        print(Fore.RED + \"\\nThis square has already been occupied, choose another.\" + Fore.RESET)\n",
        "        return False\n",
        "      else:\n",
        "        self.board[square] = letter\n",
        "        self.used.append(square)\n",
        "        return True\n",
        "    else:\n",
        "      print(Fore.RED + \"\\nInvalid number for the board placement.\" + Fore.RESET)\n",
        "\n",
        "  def winner(self, letter):\n",
        "    hasWon = False\n",
        "    if (self.board[1] == self.board[2] == self.board[3] == letter or\n",
        "        self.board[4] == self.board[5] == self.board[6] == letter or\n",
        "        self.board[7] == self.board[8] == self.board[9] == letter or\n",
        "        self.board[1] == self.board[4] == self.board[7] == letter or\n",
        "        self.board[2] == self.board[5] == self.board[8] == letter or\n",
        "        self.board[3] == self.board[6] == self.board[9] == letter or\n",
        "        self.board[1] == self.board[5] == self.board[9] == letter or\n",
        "        self.board[3] == self.board[5] == self.board[7] == letter):\n",
        "      hasWon = True\n",
        "      return hasWon\n",
        "\n",
        "  def full(self):\n",
        "    for square in range(1,10):\n",
        "      if self.board[square] == '-': #spaces in board is still empty\n",
        "        return False\n",
        "    return True\n",
        "\n",
        "  def start(self):\n",
        "    self.createBoard()\n",
        "    turn = 0\n",
        "    playOn = True\n",
        "    while playOn:\n",
        "      if turn%2 == 0:\n",
        "        letter = 'X'\n",
        "        player = 'Player 1'\n",
        "      else:\n",
        "        letter = 'O'\n",
        "        player = 'Player 2'\n",
        "      print(Fore.MAGENTA + f\"{player}, playing {letter}\" + Fore.RESET)\n",
        "      self.getBoard()\n",
        "\n",
        "      flag = False\n",
        "      while flag == False:\n",
        "        #need to print out the tic tac toe in letters\n",
        "        print(\"\\nFor your reference, here are the numbered squares\")\n",
        "        self.numberedBoard()\n",
        "\n",
        "        #taking the input\n",
        "        square = input(f\"\\nWhat square would you like to put {letter} on? \")\n",
        "        #check that the input is a number and then change it into int finally\n",
        "        if (square.isdecimal()):\n",
        "          flag = self.placeLetter(int(square), letter)\n",
        "        else:\n",
        "          print(Fore.RED + \"Please enter an integer from 1 to 9\" + Fore.RESET) #need to restart turn \n",
        "        self.getBoard()\n",
        "      \n",
        "      if (flag == True):\n",
        "        turn += 1\n",
        "      \n",
        "      #now checking for a win\n",
        "      if self.winner(letter):\n",
        "        print(Fore.GREEN + f\"\\n{player} has won!\" + Fore.RESET)\n",
        "        playOn = False\n",
        "        break\n",
        "      \n",
        "      #now checking for draw\n",
        "      if self.full():\n",
        "        print(Fore.YELLOW + \"It's a draw. Better luck next time!\" + Fore.RESET)\n",
        "        playOn = False\n",
        "        break\n",
        "      print()\n",
        "\n",
        "\n"
      ],
      "metadata": {
        "id": "THH4ll3dY0SW"
      },
      "execution_count": 33,
      "outputs": []
    },
    {
      "cell_type": "code",
      "source": [
        "game = game()\n",
        "game.start()"
      ],
      "metadata": {
        "colab": {
          "base_uri": "https://localhost:8080/"
        },
        "id": "HOkRAPTwZ0yj",
        "outputId": "143d1106-f26e-4076-c2f8-966672100291"
      },
      "execution_count": 34,
      "outputs": [
        {
          "output_type": "stream",
          "name": "stdout",
          "text": [
            "\u001b[35mPlayer 1, playing X\u001b[39m\n",
            "- - -\n",
            "- - -\n",
            "- - -\n",
            "\n",
            "For your reference, here are the numbered squares\n",
            "1 2 3\n",
            "4 5 6\n",
            "7 8 9\n",
            "\n",
            "What square would you like to put X on? 5\n",
            "- - -\n",
            "- X -\n",
            "- - -\n",
            "\n",
            "\u001b[35mPlayer 2, playing O\u001b[39m\n",
            "- - -\n",
            "- X -\n",
            "- - -\n",
            "\n",
            "For your reference, here are the numbered squares\n",
            "1 2 3\n",
            "4 5 6\n",
            "7 8 9\n",
            "\n",
            "What square would you like to put O on? 8\n",
            "- - -\n",
            "- X -\n",
            "- O -\n",
            "\n",
            "\u001b[35mPlayer 1, playing X\u001b[39m\n",
            "- - -\n",
            "- X -\n",
            "- O -\n",
            "\n",
            "For your reference, here are the numbered squares\n",
            "1 2 3\n",
            "4 5 6\n",
            "7 8 9\n",
            "\n",
            "What square would you like to put X on? 1\n",
            "X - -\n",
            "- X -\n",
            "- O -\n",
            "\n",
            "\u001b[35mPlayer 2, playing O\u001b[39m\n",
            "X - -\n",
            "- X -\n",
            "- O -\n",
            "\n",
            "For your reference, here are the numbered squares\n",
            "1 2 3\n",
            "4 5 6\n",
            "7 8 9\n",
            "\n",
            "What square would you like to put O on? 0\n",
            "\u001b[31m\n",
            "Invalid number for the board placement.\u001b[39m\n",
            "X - -\n",
            "- X -\n",
            "- O -\n",
            "\n",
            "\u001b[35mPlayer 2, playing O\u001b[39m\n",
            "X - -\n",
            "- X -\n",
            "- O -\n",
            "\n",
            "For your reference, here are the numbered squares\n",
            "1 2 3\n",
            "4 5 6\n",
            "7 8 9\n",
            "\n",
            "What square would you like to put O on? 9\n",
            "X - -\n",
            "- X -\n",
            "- O O\n",
            "\n",
            "\u001b[35mPlayer 1, playing X\u001b[39m\n",
            "X - -\n",
            "- X -\n",
            "- O O\n",
            "\n",
            "For your reference, here are the numbered squares\n",
            "1 2 3\n",
            "4 5 6\n",
            "7 8 9\n",
            "\n",
            "What square would you like to put X on? 7\n",
            "X - -\n",
            "- X -\n",
            "X O O\n",
            "\n",
            "\u001b[35mPlayer 2, playing O\u001b[39m\n",
            "X - -\n",
            "- X -\n",
            "X O O\n",
            "\n",
            "For your reference, here are the numbered squares\n",
            "1 2 3\n",
            "4 5 6\n",
            "7 8 9\n",
            "\n",
            "What square would you like to put O on? 4\n",
            "X - -\n",
            "O X -\n",
            "X O O\n",
            "\n",
            "\u001b[35mPlayer 1, playing X\u001b[39m\n",
            "X - -\n",
            "O X -\n",
            "X O O\n",
            "\n",
            "For your reference, here are the numbered squares\n",
            "1 2 3\n",
            "4 5 6\n",
            "7 8 9\n",
            "\n",
            "What square would you like to put X on? 3\n",
            "X - X\n",
            "O X -\n",
            "X O O\n",
            "\u001b[32m\n",
            "Player 1 has won!\u001b[39m\n"
          ]
        }
      ]
    },
    {
      "cell_type": "markdown",
      "source": [
        "## Reference\n",
        "\n",
        "1. https://www.simplilearn.com/tutorials/programming-tutorial/problem-solving-in-programming\n",
        "2. https://github.com/nihathalici/The-Big-Book-of-Small-Python-Projects/tree/main/C76-Project-76-Tic-Tac-Toe\n",
        "3. https://playtictactoe.org/"
      ],
      "metadata": {
        "id": "acbpN3SNNHkz"
      }
    }
  ]
}