{
  "nbformat": 4,
  "nbformat_minor": 0,
  "metadata": {
    "colab": {
      "provenance": [],
      "toc_visible": true
    },
    "kernelspec": {
      "name": "python3",
      "display_name": "Python 3"
    },
    "language_info": {
      "name": "python"
    }
  },
  "cells": [
    {
      "cell_type": "markdown",
      "source": [
        "# Lab 3 - Cryptogram"
      ],
      "metadata": {
        "id": "TffpZGiElly4"
      }
    },
    {
      "cell_type": "markdown",
      "source": [
        "## Caesar Cipher\n",
        "\n",
        "The Caesar cipher is an ancient encryption algorithm used by Julius Caesar. It encrypts letters by shifting them over by a certain number of places in the alphabet.\n",
        "\n",
        "<img width = 500 src=\"https://upload.wikimedia.org/wikipedia/commons/4/4a/Caesar_cipher_left_shift_of_3.svg\"> [1]\n",
        "\n",
        "\n"
      ],
      "metadata": {
        "id": "UknTFeN9lr87"
      }
    },
    {
      "cell_type": "markdown",
      "source": [
        "For exmaple, given a string `Hello, World!` and a shift 5, let's go through the encryption process using this method.\n",
        "\n",
        "```\n",
        "       H   e    l   l  o  ,  W   o   r   l   d  !\n",
        "(ord)  72 101 108 108 111 ,  87 111 114 108 100 !\n",
        "(+5)   77 106 113 113 116 ,  92 116 119 113 105 !\n",
        "(mod 26 aligning with A 65 or a 97)\n",
        "       77 106 113 113 116 ,  2  116 119 113 105 !\n",
        "(chr)  M   j   q   q   t     B   t   w   q   i  !\n",
        "```\n",
        "\n",
        "The encrypted text is `Mjqqt Btwqi!`. "
      ],
      "metadata": {
        "id": "jx1xUBlDvh2v"
      }
    },
    {
      "cell_type": "markdown",
      "source": [
        "**Practice**\n",
        "\n",
        "What is the encrypted text of `Zoe` with shift 3 using Caesar Cipher? "
      ],
      "metadata": {
        "id": "dxv7b8-PWJHf"
      }
    },
    {
      "cell_type": "markdown",
      "source": [
        "Z o e\n",
        "\n",
        "C r h"
      ],
      "metadata": {
        "id": "pF7APR6ijLcF"
      }
    },
    {
      "cell_type": "markdown",
      "source": [
        "Step 1: complete function `caesar_encrypt` to encrypt the plain_text using Caesar Cipher. "
      ],
      "metadata": {
        "id": "1vTlN_2AVdoS"
      }
    },
    {
      "cell_type": "code",
      "source": [
        "def caesar_encrypt(plain_text, shift):\n",
        "    answer = \"\"\n",
        "    for i in range(len(plain_text)):\n",
        "      letter = plain_text[i]\n",
        "\n",
        "      if ord(letter) > 64 and ord(letter) < 91: #uppercase\n",
        "        answer = answer + chr((ord(letter) + shift - 65) % 26 + 65)\n",
        "      elif ord(letter) > 96 and ord(letter) <123: #lowercase\n",
        "        answer = answer + chr((ord(letter) + shift - 97) % 26 + 97)\n",
        "      else:\n",
        "        answer = answer + chr(ord(letter))\n",
        "    return answer\n",
        "    \n",
        "plain_text1 = \"Hello, World!\"\n",
        "encrypted_text1 = \"Khoor, Zruog!\"\n",
        "shift1 = 3\n",
        "p = caesar_encrypt(plain_text1, shift1)\n",
        "p"
      ],
      "metadata": {
        "id": "6ThfXVdmV5mR",
        "colab": {
          "base_uri": "https://localhost:8080/",
          "height": 35
        },
        "outputId": "a45de2c9-5d2e-4f63-d720-4cd384e12f87"
      },
      "execution_count": 3,
      "outputs": [
        {
          "output_type": "execute_result",
          "data": {
            "text/plain": [
              "'Khoor, Zruog!'"
            ],
            "application/vnd.google.colaboratory.intrinsic+json": {
              "type": "string"
            }
          },
          "metadata": {},
          "execution_count": 3
        }
      ]
    },
    {
      "cell_type": "markdown",
      "source": [
        "Step 2: run the testing code below to test your code. "
      ],
      "metadata": {
        "id": "xzYO5sfXfGhS"
      }
    },
    {
      "cell_type": "code",
      "source": [
        "import unittest"
      ],
      "metadata": {
        "id": "MYCu2z4RFAvj"
      },
      "execution_count": 1,
      "outputs": []
    },
    {
      "cell_type": "code",
      "source": [
        "class TestCaesar(unittest.TestCase):\n",
        "\n",
        "    def test_encrypt(self):\n",
        "        plain_text1 = \"Hello, World!\"\n",
        "        encrypted_text1 = \"Khoor, Zruog!\"\n",
        "        shift1 = 3\n",
        "        assert encrypted_text1 == caesar_encrypt(plain_text1, shift1)\n",
        "\n",
        "        plain_text2 = \"Hello, World!\"\n",
        "        encrypted_text2 = \"Lipps, Asvph!\"\n",
        "        shift2 = 30\n",
        "        assert encrypted_text2 == caesar_encrypt(plain_text2, shift2)\n",
        "\n",
        "        plain_text3 = \"Westminster University\"\n",
        "        encrypted_text3 = \"Gocdwsxcdob Exsfobcsdi\"\n",
        "        shift3 = 10\n",
        "        assert encrypted_text3 == caesar_encrypt(plain_text3, shift3)\n",
        "\n",
        "if __name__ == '__main__':\n",
        "    unittest.main(argv=['first-arg-is-ignored'], exit=False)"
      ],
      "metadata": {
        "id": "o1Vwh0xujlTH",
        "colab": {
          "base_uri": "https://localhost:8080/"
        },
        "outputId": "1de97b7d-3253-4bc4-a586-e852e369f3ec"
      },
      "execution_count": 4,
      "outputs": [
        {
          "output_type": "stream",
          "name": "stderr",
          "text": [
            ".\n",
            "----------------------------------------------------------------------\n",
            "Ran 1 test in 0.004s\n",
            "\n",
            "OK\n"
          ]
        }
      ]
    },
    {
      "cell_type": "markdown",
      "source": [
        "Step 3: complete function `caesar_decrypt` to decrypt the text if knowing the shift using Caesar Cipher. "
      ],
      "metadata": {
        "id": "081zYVc1DEqk"
      }
    },
    {
      "cell_type": "code",
      "source": [
        "def caesar_decrypt(cipher_text, shift):\n",
        "    answer = ''\n",
        "    for i in range(len(cipher_text)):\n",
        "      letter = cipher_text[i]\n",
        "\n",
        "      if ord(letter) > 64 and ord(letter) < 91: #uppercase\n",
        "        answer = answer + chr((ord(letter) - shift - 65) % 26 + 65)\n",
        "      elif ord(letter) > 96 and ord(letter) <123: #lowercase\n",
        "        answer = answer + chr((ord(letter) - shift - 97) % 26 + 97)\n",
        "      else:\n",
        "        answer = answer + chr(ord(letter))\n",
        "    return answer\n",
        "\n",
        "\n",
        "plain_text1 = \"Hello, World!\"\n",
        "encrypted_text1 = \"Khoor, Zruog!\"\n",
        "shift1 = 3\n",
        "p = caesar_decrypt(encrypted_text1, shift1)\n",
        "p"
      ],
      "metadata": {
        "id": "vKq92eKcDE_F",
        "colab": {
          "base_uri": "https://localhost:8080/",
          "height": 35
        },
        "outputId": "b8850648-faa0-47ac-dec7-47646a078b16"
      },
      "execution_count": 5,
      "outputs": [
        {
          "output_type": "execute_result",
          "data": {
            "text/plain": [
              "'Hello, World!'"
            ],
            "application/vnd.google.colaboratory.intrinsic+json": {
              "type": "string"
            }
          },
          "metadata": {},
          "execution_count": 5
        }
      ]
    },
    {
      "cell_type": "markdown",
      "source": [
        "Step 4: run the testing code below to test your code. "
      ],
      "metadata": {
        "id": "-fkE91iODBkm"
      }
    },
    {
      "cell_type": "code",
      "source": [
        "class TestCaesar(unittest.TestCase):\n",
        "\n",
        "    def test_decrypt(self):\n",
        "        plain_text1 = \"Hello, World!\"\n",
        "        encrypted_text1 = \"Khoor, Zruog!\"\n",
        "        shift1 = 3\n",
        "        assert plain_text1 == caesar_decrypt(encrypted_text1, shift1)\n",
        "\n",
        "        plain_text2 = \"Hello, World!\"\n",
        "        encrypted_text2 = \"Lipps, Asvph!\"\n",
        "        shift2 = 30\n",
        "        assert plain_text2 == caesar_decrypt(encrypted_text2, shift2)\n",
        "\n",
        "        plain_text3 = \"Westminster University\"\n",
        "        encrypted_text3 = \"Gocdwsxcdob Exsfobcsdi\"\n",
        "        shift3 = 10\n",
        "        assert plain_text3 == caesar_decrypt(encrypted_text3, shift3)\n",
        "\n",
        "if __name__ == '__main__':\n",
        "    unittest.main(argv=['first-arg-is-ignored'], exit=False)"
      ],
      "metadata": {
        "id": "9psN6uUFDGEn",
        "colab": {
          "base_uri": "https://localhost:8080/"
        },
        "outputId": "d16d9d48-1b59-4f70-ae31-a604749eb6c9"
      },
      "execution_count": 6,
      "outputs": [
        {
          "output_type": "stream",
          "name": "stderr",
          "text": [
            ".\n",
            "----------------------------------------------------------------------\n",
            "Ran 1 test in 0.002s\n",
            "\n",
            "OK\n"
          ]
        }
      ]
    },
    {
      "cell_type": "markdown",
      "source": [
        "## Vigenère Cipher\n",
        "\n",
        "The Vigenère cipher is a polyalphabetic substitution cipher that uses a keyword to determine different shift values for different positions in the text. Each letter in the keyword corresponds to a shift value. "
      ],
      "metadata": {
        "id": "HQEpD7g4lrpX"
      }
    },
    {
      "cell_type": "markdown",
      "source": [
        "For example, given plain_text `Hello, World!` and keyword `Hello`, let's go through the encryption process using this method.\n",
        "\n",
        "We repeat the keyword to match the length of the plaintext:\n",
        "\n",
        "Plaintext:  Hello, World!\n",
        "\n",
        "Keyword:    HelloHelloHel\n",
        "\n",
        "To encrypt each letter, we'll use the following numerical representation where A/a=0, B/b=1, C/c=2, and so on.\n",
        "\n",
        "```\n",
        "Plaintext:   H  e  l  l  o  ,     W  o  r  l  d  !\n",
        "\n",
        "Keyword:     H  e  l  l  o  H  e  l  l  o  H  e  l\n",
        "\n",
        "Numerical:   7  4 11 11 14        11 11 14 7  4  \n",
        "```\n",
        "\n",
        "Now we add the corresponding numerical values of the plaintext and keyword (mod 26) to obtain the encrypted letters.\n",
        "\n",
        "```\n",
        "Encrypted:   O  i  w  w  c  ,     H  z  f  s  h  !\n",
        "```\n",
        "\n",
        "The correct encrypted text for the plaintext \"Hello, World!\" with the keyword \"Hello\" using the Vigenère cipher is \"Oiwwc, Hzfsh!\"."
      ],
      "metadata": {
        "id": "grtFsdktjYhs"
      }
    },
    {
      "cell_type": "markdown",
      "source": [
        "**Practice**\n",
        "\n",
        "What is the encrypted text of `Zoe` with keyword `Hi` using Vigenere Cipher? "
      ],
      "metadata": {
        "id": "s5bDbuAdWkOw"
      }
    },
    {
      "cell_type": "markdown",
      "source": [
        "Z o e\n",
        "\n",
        "H i H\n",
        "\n",
        "7 8 7\n",
        "\n",
        "G w l"
      ],
      "metadata": {
        "id": "rBJIJfiVpE43"
      }
    },
    {
      "cell_type": "markdown",
      "source": [
        "Step 1: complete function `vigenere_encrypt` to encrypt the plain_text using Vigenere Cipher. "
      ],
      "metadata": {
        "id": "4-Y9ze3e6Tn9"
      }
    },
    {
      "cell_type": "code",
      "source": [
        "def vigenere_encrypt(plain_text, keyword):\n",
        "    encryption = \"\"\n",
        "\n",
        "    #different lists to hold the letters\n",
        "    keyword_list = []\n",
        "    plain_text_list = []\n",
        "    keyword_list_dupe = []\n",
        "\n",
        "    #adding the letters in keyword to keyword_list\n",
        "    for i in range(len(keyword)):\n",
        "      letter = keyword[i]\n",
        "      keyword_list.append(letter)\n",
        "\n",
        "    #adding the letters in plain_text to plain_text_list\n",
        "    for i in range(len(plain_text)):\n",
        "      letter = plain_text[i]\n",
        "      plain_text_list.append(letter)\n",
        "\n",
        "    #making sure that the keyword_list repeats itself\n",
        "    while len(plain_text_list) > len(keyword_list):\n",
        "      for i in range(len(keyword)):\n",
        "        letter = keyword[i]\n",
        "        keyword_list.append(letter)\n",
        "    #cutting off the excess repeats in the keyword_list\n",
        "    diff = len(keyword_list) - len(plain_text_list)\n",
        "\n",
        "    for i in range(len(keyword_list) - diff):\n",
        "      keyword_list_dupe.append(keyword_list[i])\n",
        "\n",
        "    #encrypting\n",
        "    for i in range(len(keyword_list_dupe)):\n",
        "      letter = keyword_list_dupe[i]\n",
        "      plain_letter = plain_text_list[i]\n",
        "      placement = ord(letter.upper()) - ord('A')\n",
        "      if ord(plain_letter) > 64 and ord(plain_letter) < 91: #uppercase range\n",
        "        encryption += chr((ord(plain_letter) + placement - 65) % 26 + 65)\n",
        "      elif(ord(plain_letter) > 96 and ord(plain_letter) < 123): #lowercase range\n",
        "        encryption += chr((ord(plain_letter) + placement - 97) % 26 + 97)\n",
        "      else:\n",
        "        encryption += chr(ord(plain_letter))\n",
        "        \n",
        "    return encryption"
      ],
      "metadata": {
        "id": "3gPl9V5QmIpo"
      },
      "execution_count": 7,
      "outputs": []
    },
    {
      "cell_type": "markdown",
      "source": [
        "Step 2: run the testing code below to test your code. "
      ],
      "metadata": {
        "id": "SGLIFEDtFsFU"
      }
    },
    {
      "cell_type": "code",
      "source": [
        "class TestVigenere(unittest.TestCase):\n",
        "\n",
        "    def test_encrypt(self):\n",
        "        plain_text1 = \"Hello, World!\"\n",
        "        encrypted_text1 = \"Oiwwc, Hzfsh!\"\n",
        "        keyword1 = \"Hello\"\n",
        "        assert encrypted_text1 == vigenere_encrypt(plain_text1, keyword1)\n",
        "\n",
        "        plain_text2 = \"Hello, World!\"\n",
        "        encrypted_text2 = \"Dscwr, Nzuhr!\"\n",
        "        keyword2 = \"World\"\n",
        "        assert encrypted_text2 == vigenere_encrypt(plain_text2, keyword2)\n",
        "\n",
        "        plain_text3 = \"Westminster University\"\n",
        "        encrypted_text3 = \"Oedmxixwvmk Mntoprcmvg\"\n",
        "        keyword3 = \"SaltLakeCity\"\n",
        "        assert encrypted_text3 == vigenere_encrypt(plain_text3, keyword3)\n",
        "        \n",
        "if __name__ == '__main__':\n",
        "    unittest.main(argv=['first-arg-is-ignored'], exit=False)"
      ],
      "metadata": {
        "id": "Z8V_tsjhmlR6",
        "colab": {
          "base_uri": "https://localhost:8080/"
        },
        "outputId": "f76f93db-1e64-4249-f735-324d7b64134b"
      },
      "execution_count": 8,
      "outputs": [
        {
          "output_type": "stream",
          "name": "stderr",
          "text": [
            "..\n",
            "----------------------------------------------------------------------\n",
            "Ran 2 tests in 0.008s\n",
            "\n",
            "OK\n"
          ]
        }
      ]
    },
    {
      "cell_type": "markdown",
      "source": [
        "Step 3: complete function `vigenere_decrypt` to decrypt the text using Vigenere Cipher. "
      ],
      "metadata": {
        "id": "TLzpXY7WDu3O"
      }
    },
    {
      "cell_type": "code",
      "source": [
        "def vigenere_decrypt(cipher_text, keyword):\n",
        "    encryption = \"\"\n",
        "\n",
        "    #different lists to hold the letters\n",
        "    keyword_list = []\n",
        "    cipher_text_list = []\n",
        "    keyword_list_dupe = []\n",
        "\n",
        "    #adding the letters in keyword to keyword_list\n",
        "    for i in range(len(keyword)):\n",
        "      letter = keyword[i]\n",
        "      keyword_list.append(letter)\n",
        "\n",
        "    #adding the letters in plain_text to plain_text_list\n",
        "    for i in range(len(cipher_text)):\n",
        "      letter = cipher_text[i]\n",
        "      cipher_text_list.append(letter)\n",
        "\n",
        "    #making sure that the keyword_list repeats itself\n",
        "    while len(cipher_text_list) > len(keyword_list):\n",
        "      for i in range(len(keyword)):\n",
        "        letter = keyword[i]\n",
        "        keyword_list.append(letter)\n",
        "    #cutting off the excess repeats in the keyword_list\n",
        "    diff = len(keyword_list) - len(cipher_text_list)\n",
        "\n",
        "    for i in range(len(keyword_list) - diff):\n",
        "      keyword_list_dupe.append(keyword_list[i])\n",
        "\n",
        "    #encrypting\n",
        "    for i in range(len(keyword_list_dupe)):\n",
        "      letter = keyword_list_dupe[i]\n",
        "      cipher_letter = cipher_text_list[i]\n",
        "      placement = ord(letter.upper()) - ord('A')\n",
        "      if ord(cipher_letter) > 64 and ord(cipher_letter) < 91: #uppercase range\n",
        "        encryption += chr((ord(cipher_letter) - placement - 65) % 26 + 65)\n",
        "      elif(ord(cipher_letter) > 96 and ord(cipher_letter) < 123): #lowercase range\n",
        "        encryption += chr((ord(cipher_letter) - placement - 97) % 26 + 97)\n",
        "      else:\n",
        "        encryption += chr(ord(cipher_letter))\n",
        "        \n",
        "    return encryption"
      ],
      "metadata": {
        "id": "d2n73_XwEOVl"
      },
      "execution_count": 9,
      "outputs": []
    },
    {
      "cell_type": "markdown",
      "source": [
        "Step 4: run the testing code below to test your code. "
      ],
      "metadata": {
        "id": "8wCf1UfVDqkf"
      }
    },
    {
      "cell_type": "code",
      "source": [
        "class TestVigenere(unittest.TestCase):\n",
        "\n",
        "    def test_decrypt(self):\n",
        "        plain_text1 = \"Hello, World!\"\n",
        "        encrypted_text1 = \"Oiwwc, Hzfsh!\"\n",
        "        keyword1 = \"Hello\"\n",
        "        assert plain_text1 == vigenere_decrypt(encrypted_text1, keyword1)\n",
        "\n",
        "        plain_text2 = \"Hello, World!\"\n",
        "        encrypted_text2 = \"Dscwr, Nzuhr!\"\n",
        "        keyword2 = \"World\"\n",
        "        assert plain_text2 == vigenere_decrypt(encrypted_text2, keyword2)\n",
        "\n",
        "        plain_text3 = \"Westminster University\"\n",
        "        encrypted_text3 = \"Oedmxixwvmk Mntoprcmvg\"\n",
        "        keyword3 = \"SaltLakeCity\"\n",
        "        assert plain_text3 == vigenere_decrypt(encrypted_text3, keyword3)\n",
        "\n",
        "if __name__ == '__main__':\n",
        "    unittest.main(argv=['first-arg-is-ignored'], exit=False)"
      ],
      "metadata": {
        "id": "ocRUU7UPEQKv",
        "colab": {
          "base_uri": "https://localhost:8080/"
        },
        "outputId": "f7447ed3-6bf5-4650-d708-f453221bc8f9"
      },
      "execution_count": 10,
      "outputs": [
        {
          "output_type": "stream",
          "name": "stderr",
          "text": [
            "..\n",
            "----------------------------------------------------------------------\n",
            "Ran 2 tests in 0.005s\n",
            "\n",
            "OK\n"
          ]
        }
      ]
    },
    {
      "cell_type": "markdown",
      "source": [
        "## Columnar Transposition Cipher\n",
        "\n",
        "The Columnar Transposition cipher rearranges the plain text by writing it into a grid, and then reading off the cipher text by column-wise. "
      ],
      "metadata": {
        "id": "BDkAqQEYmGB7"
      }
    },
    {
      "cell_type": "markdown",
      "source": [
        "For example, given plain_text `Hello, World!` and keyword `Hack`, let's go through the encryption process using this method.\n",
        "\n",
        "```\n",
        "     H a c k\n",
        "     0 1 2 3\n",
        " 0   H e l l\n",
        " 1   o ,   W\n",
        " 2   o r l d \n",
        " 3   !        \n",
        "```\n",
        "\n",
        "Since the length of `Hack` is 4, we rearrange `Hello, World!` into a matrix with m rows by 4 columns. The exact value of m is decided by the length of the plain text. Each of the last few positions at the last row of the matrix is filled by a single empty space. \n",
        "\n",
        "Then we rank 4 columns of the matirx based on four letters in `Hack` in alphabeta order without case sensitive. We have the order `acHk` or `1203`. \n",
        "\n",
        "In the last step, we write the matrix in column-wise following the order we got in previous step. Finally, we have the encrypted text \"e,r l l Hoo!lWd \"."
      ],
      "metadata": {
        "id": "kQ879sKYsNNC"
      }
    },
    {
      "cell_type": "markdown",
      "source": [
        "**Practice**\n",
        "\n",
        "What is the encrypted text of `Morrison` with keyword `Sun` using Columnar Transposition Cipher? "
      ],
      "metadata": {
        "id": "Lp221_rBW3TG"
      }
    },
    {
      "cell_type": "markdown",
      "source": [
        "Step 1: complete function `columnar_transposition_encrypt` to encrypt the plain_text using Columnar Transposition Cipher. "
      ],
      "metadata": {
        "id": "E_9prkfWFhk8"
      }
    },
    {
      "cell_type": "markdown",
      "source": [
        "S u n\n",
        "\n",
        "2 3 1\n",
        "\n",
        "M o r\n",
        "\n",
        "r i s\n",
        "\n",
        "o n\n",
        "\n",
        "rs mrooin"
      ],
      "metadata": {
        "id": "_80KeJjMzxNN"
      }
    },
    {
      "cell_type": "code",
      "execution_count": 11,
      "metadata": {
        "id": "IdTYEvXalM84",
        "colab": {
          "base_uri": "https://localhost:8080/",
          "height": 35
        },
        "outputId": "085cf5c4-9126-429d-d434-656b16f4c661"
      },
      "outputs": [
        {
          "output_type": "execute_result",
          "data": {
            "text/plain": [
              "'e,r l l Hoo!lWd '"
            ],
            "application/vnd.google.colaboratory.intrinsic+json": {
              "type": "string"
            }
          },
          "metadata": {},
          "execution_count": 11
        }
      ],
      "source": [
        "import math\n",
        "\n",
        "def columnar_transposition_encrypt(plain_text, keyword):\n",
        "    answer = \"\"\n",
        "    index = 0\n",
        "\n",
        "    lengthText = float(len(plain_text))\n",
        "    lengthKey = len(keyword) #number of col\n",
        "    listText = list(plain_text)\n",
        "    listKey = sorted(list(keyword.lower())) #check case\n",
        "    #print(listKey)\n",
        "\n",
        "    lengthRow = int(math.ceil(lengthText/lengthKey)) #number of row\n",
        "    empty = int((lengthRow*lengthKey)-lengthText)\n",
        "    listText.extend(\" \" * empty)\n",
        "    \n",
        "    matrix = [listText[i: i + lengthKey]\n",
        "              for i in range(0, len(listText), lengthKey)]\n",
        "    \n",
        "    for k in range(lengthKey):\n",
        "      currentPosition = keyword.lower().index(listKey[index])\n",
        "      answer = answer + ''.join([lengthRow[currentPosition]\n",
        "                           for lengthRow in matrix])\n",
        "      index = index + 1\n",
        "    \n",
        "    return answer\n",
        "\n",
        "\n",
        "plain_text1 = \"Hello, World!\"\n",
        "encrypted_text1 = \"e,r l l Hoo!lWd \"\n",
        "keyword1 = \"Hack\"\n",
        "p = columnar_transposition_encrypt(plain_text1, keyword1)\n",
        "p"
      ]
    },
    {
      "cell_type": "markdown",
      "source": [
        "Step 2: run the testing code below to test your code. "
      ],
      "metadata": {
        "id": "OMytYbm4FvSg"
      }
    },
    {
      "cell_type": "code",
      "source": [
        "class TestColumnar(unittest.TestCase):\n",
        "\n",
        "    def test_encrypt(self):\n",
        "        plain_text1 = \"Hello, World!\"\n",
        "        encrypted_text1 = \"e,r l l Hoo!lWd \"\n",
        "        keyword1 = \"Hack\"\n",
        "        assert encrypted_text1 == columnar_transposition_encrypt(plain_text1, keyword1)\n",
        "\n",
        "        plain_text2 = \"Hello, World!\"\n",
        "        encrypted_text2 = \"or lo e dlW!H,l\"\n",
        "        keyword2 = \"World\"\n",
        "        assert encrypted_text2 == columnar_transposition_encrypt(plain_text2, keyword2)\n",
        "\n",
        "        plain_text3 = \"Westminster University\"\n",
        "        encrypted_text3 = \"snris ts vi eienryWmtUet\"\n",
        "        keyword3 = \"Utah\"\n",
        "        assert encrypted_text3 == columnar_transposition_encrypt(plain_text3, keyword3)\n",
        "        \n",
        "if __name__ == '__main__':\n",
        "    unittest.main(argv=['first-arg-is-ignored'], exit=False)"
      ],
      "metadata": {
        "id": "Kx38qHTSEDJN",
        "colab": {
          "base_uri": "https://localhost:8080/"
        },
        "outputId": "7cd300b2-d6a7-490c-e3dd-e6b8b5571c63"
      },
      "execution_count": 12,
      "outputs": [
        {
          "output_type": "stream",
          "name": "stderr",
          "text": [
            "...\n",
            "----------------------------------------------------------------------\n",
            "Ran 3 tests in 0.006s\n",
            "\n",
            "OK\n"
          ]
        }
      ]
    },
    {
      "cell_type": "markdown",
      "source": [
        "Step 3: complete function `columnar_transposition_decrypt` to decrypt the text using Columnar Transposition Cipher. "
      ],
      "metadata": {
        "id": "cDR_C5LVD5lL"
      }
    },
    {
      "cell_type": "code",
      "source": [
        "import math\n",
        "\n",
        "def columnar_transposition_decrypt(cipher_text, keyword):\n",
        "    decrypted = \"\"\n",
        "    index_key = 0\n",
        "    index_text = 0\n",
        "\n",
        "    text_len = float(len(cipher_text)) #is float so that the division later on goes smoothly\n",
        "    key_len = len(keyword) #number of columns\n",
        "    text_list = list(cipher_text)\n",
        "    key_list = sorted(list(keyword.lower())) #checks case and sorted\n",
        "\n",
        "    row_len = int(math.ceil(text_len/key_len)) #number of rows #maths.ceil gets the rounded up value of the division\n",
        "    matrix = []\n",
        "\n",
        "    for r in range(row_len):\n",
        "      space = []\n",
        "      for c in range(key_len):\n",
        "        space.append(\" \")\n",
        "      matrix.append(space)\n",
        "\n",
        "    for c in range(key_len):\n",
        "      current_position = keyword.lower().index(key_list[index_key])\n",
        "      for r in range(row_len): #fill in col by row\n",
        "        matrix[r][current_position] = text_list[index_text]\n",
        "        index_text += 1\n",
        "      index_key += 1\n",
        "\n",
        "    decrypted = decrypted + ''.join(sum(matrix, []))\n",
        "\n",
        "    empty = decrypted.count(\" \") - 1 #adding -1 here because it cuts off the last letter or character even though its not \" \"\n",
        "\n",
        "    if empty > 0: #has empty spots\n",
        "      return decrypted[:-empty]\n",
        "      \n",
        "    return decrypted\n",
        "\n",
        "#plain_text1 = \"Hello, World!\"\n",
        "#encrypted_text1 = \"e,r l l Hoo!lWd \"\n",
        "#keyword1 = \"Hack\"\n",
        "#p = columnar_transposition_decrypt(encrypted_text1, keyword1)\n",
        "#p\n",
        "\n",
        "plain_text2 = \"Hello, World!\"\n",
        "encrypted_text2 = \"or lo e dlW!H,l\"\n",
        "keyword2 = \"World\"\n",
        "q = columnar_transposition_decrypt(encrypted_text2, keyword2)\n",
        "q\n",
        "\n",
        "#plain_text3 = \"Westminster University\"\n",
        "#encrypted_text3 = \"snris ts vi eienryWmtUet\"\n",
        "#keyword3 = \"Utah\"\n",
        "#w = columnar_transposition_decrypt(encrypted_text3, keyword3)\n",
        "#w"
      ],
      "metadata": {
        "id": "WtbXPg94EWB_",
        "colab": {
          "base_uri": "https://localhost:8080/",
          "height": 35
        },
        "outputId": "a4b2b3a3-2779-4c54-cd10-fcb20d74fb0f"
      },
      "execution_count": 13,
      "outputs": [
        {
          "output_type": "execute_result",
          "data": {
            "text/plain": [
              "'Hello, World!'"
            ],
            "application/vnd.google.colaboratory.intrinsic+json": {
              "type": "string"
            }
          },
          "metadata": {},
          "execution_count": 13
        }
      ]
    },
    {
      "cell_type": "markdown",
      "source": [
        "Step 4: run the testing code below to test your code. "
      ],
      "metadata": {
        "id": "wv42DtTFDoQW"
      }
    },
    {
      "cell_type": "code",
      "source": [
        "class TestColumnar(unittest.TestCase):\n",
        "\n",
        "    def test_decrypt(self):\n",
        "        plain_text1 = \"Hello, World!\"\n",
        "        encrypted_text1 = \"e,r l l Hoo!lWd \"\n",
        "        keyword1 = \"Hack\"\n",
        "        assert plain_text1 == columnar_transposition_decrypt(encrypted_text1, keyword1)\n",
        "\n",
        "        plain_text2 = \"Hello, World!\"\n",
        "        encrypted_text2 = \"or lo e dlW!H,l\"\n",
        "        keyword2 = \"World\"\n",
        "        assert plain_text2 == columnar_transposition_decrypt(encrypted_text2, keyword2)\n",
        "\n",
        "        plain_text3 = \"Westminster University\"\n",
        "        encrypted_text3 = \"snris ts vi eienryWmtUet\"\n",
        "        keyword3 = \"Utah\"\n",
        "        assert plain_text3 == columnar_transposition_decrypt(encrypted_text3, keyword3)\n",
        "\n",
        "if __name__ == '__main__':\n",
        "    unittest.main(argv=['first-arg-is-ignored'], exit=False)"
      ],
      "metadata": {
        "id": "1RLmuZXfEZAH",
        "colab": {
          "base_uri": "https://localhost:8080/"
        },
        "outputId": "f79b445a-2443-45c2-df60-8cca1711b5bf"
      },
      "execution_count": 14,
      "outputs": [
        {
          "output_type": "stream",
          "name": "stderr",
          "text": [
            "...\n",
            "----------------------------------------------------------------------\n",
            "Ran 3 tests in 0.007s\n",
            "\n",
            "OK\n"
          ]
        }
      ]
    },
    {
      "cell_type": "markdown",
      "source": [
        "## References\n",
        "\n",
        "1. https://github.com/nihathalici/The-Big-Book-of-Small-Python-Projects/tree/main/C06-Project-6-Caesar-Cipher\n",
        "2. https://en.wikipedia.org/wiki/Caesar_cipher\n",
        "3. https://en.wikipedia.org/wiki/Vigen%C3%A8re_cipher"
      ],
      "metadata": {
        "id": "cr0XQPoXSmfL"
      }
    }
  ]
}