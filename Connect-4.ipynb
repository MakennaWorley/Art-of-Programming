{
  "nbformat": 4,
  "nbformat_minor": 0,
  "metadata": {
    "colab": {
      "provenance": [],
      "toc_visible": true
    },
    "kernelspec": {
      "name": "python3",
      "display_name": "Python 3"
    },
    "language_info": {
      "name": "python"
    }
  },
  "cells": [
    {
      "cell_type": "markdown",
      "source": [
        "# Lab 2 - Connect 4"
      ],
      "metadata": {
        "id": "VQprHIGYH_NG"
      }
    },
    {
      "cell_type": "markdown",
      "source": [
        "This is an **in-class pair-programming** activity. Please work with your partner and **submit** your file with answers and code to Canvas. "
      ],
      "metadata": {
        "id": "a5uuf9-SUT20"
      }
    },
    {
      "cell_type": "markdown",
      "source": [
        "## Problem-Solving Skills in Programming\n",
        "\n",
        "Basically, they are divided into four categories [1]:\n",
        "\n",
        "- Analysing the problem\n",
        "- Developing the algorithm\n",
        "- Coding\n",
        "- Testing and debugging"
      ],
      "metadata": {
        "id": "ycuYGz7HOQRZ"
      }
    },
    {
      "cell_type": "markdown",
      "source": [
        "[Connect 4](https://www.cbc.ca/kids/games/all/connect-4) is a popular game. Here is the rule of the game:\n",
        "\n",
        "Sure! Here are the rules of Tic-Tac-Toe:\n",
        "\n",
        "Certainly! Here are the rules of the game Connect Four:\n",
        "\n",
        "1. Equipment: Connect Four is played on a vertical grid. The default size is six rows and seven columns. \n",
        "\n",
        "2. Objective: The objective of Connect Four is to be the first player to form a horizontal, vertical, or diagonal line of four of their own colored tokens. The line can be formed in any direction: horizontally, vertically, or diagonally.\n",
        "\n",
        "3. Turns: The game is played by two players.\n",
        "\n",
        "4. Dropping Tokens: When it is a player's turn, they choose a column and drop their token into the lowest available slot of that column. The token will fall down and occupy the lowest empty position within the selected column.\n",
        "\n",
        "5. Filling the Grid: Players continue taking turns, dropping their tokens into columns, until the grid is completely filled or one of the players wins the game.\n",
        "\n",
        "In this activity, we are going to build a python code to play connect 4 step by step. "
      ],
      "metadata": {
        "id": "w4H9b0Q2IOuG"
      }
    },
    {
      "cell_type": "markdown",
      "source": [
        "**Question**\n",
        "\n",
        "Even though Tic-Tac-Toe and Connect-4 are different games, we can use the exact same structure you developed in lab 1 of tic-tac-toe in this lab.\n",
        "\n",
        "Please go through 10 steps below and think about what need change of each step from lab 1 in this lab. "
      ],
      "metadata": {
        "id": "J_6xkQP_-QQF"
      }
    },
    {
      "cell_type": "markdown",
      "source": [
        "Here are prompts for each step of building the Connect Four game in Python:\n",
        "\n",
        "1. **Create the game board**\n",
        "   - Prompt: Create a function called `create_board()` that returns an empty Connect Four game board. The default size is six rows and seven columns. Think about the data structure you can use to represent the board.\n",
        "\n",
        "2. **Print the game board**\n",
        "   - Prompt: Implement a dunder function `repr` or `str` that prints it in a user-friendly format. Think about how you can iterate over the board and display it.\n",
        "\n",
        "3. **Validate a move**\n",
        "   - Prompt: Create a function called `is_valid_move(board, column)` that checks if a move is valid. Think about the conditions that make a move valid or invalid. How can you determine if a column has an available slot for placing a token?\n",
        "\n",
        "4. **Make a move**\n",
        "   - Prompt: Implement a function called `make_move(board, column, player)` that allows a player to make a move on the board. Think about how you can find the lowest available slot in the specified column and place the player's token there.\n",
        "\n",
        "5. **Check for a winner**\n",
        "   - Prompt: Create a function called `is_winner(board, player)` that checks if the specified player has won the game. Think about the different winning configurations: rows, columns, and diagonals. How can you check if any of these configurations are complete?\n",
        "\n",
        "6. **Play the game**\n",
        "   - Prompt: Define a function called `play_game()` that represents the main game loop. Think about how you can structure the loop to alternate between players, prompt for moves, and check for a winner or a draw.\n",
        "\n",
        "7. **Input column number**\n",
        "   - Prompt: Use the `input()` function to prompt the current player for their move. Ask them to enter the column number (1-7) where they want to place their token.\n",
        "\n",
        "8. **Handle invalid moves**\n",
        "   - Prompt: Implement error handling for invalid moves. If a player enters an invalid move (e.g., column is full or out of range), display an appropriate error message and ask the player to enter a valid move.\n",
        "\n",
        "9. **Switch players**\n",
        "   - Prompt: Inside the main loop, alternate the current player between 'X' and 'O' after each move. Think about how you can use a variable to keep track of the current player and update it accordingly.\n",
        "\n",
        "10. **Start the game**\n",
        "    - Prompt: Call the `play_game()` function to start the Connect Four game. Verify that the game runs and check if the winning and draw conditions are properly detected.\n",
        "\n",
        "11. **Refine the game**\n",
        "\n",
        "    - Prompt: Think about what else can you do to refine the game, such as:\n",
        "\n",
        "        - Adding a feature that user can type `q` to terminate the game.\n",
        "        - Adding docstring to describe the usage of the game. \n",
        "        - Adding unicodes to enrich the output such as starting the game 🎮 (\\U0001f3ae), winning the game 😁 (\\u2665), etc. \n",
        "        - Adding a parameter `size` to play the game at other sizes like 8 by 10. \n",
        "        - Adding **kwargs to raise an error if passing an unrecognized parameter, like `play_game(length=10)`."
      ],
      "metadata": {
        "id": "dWoDAKQl6t4y"
      }
    },
    {
      "cell_type": "markdown",
      "source": [
        "**Write your answer here:**"
      ],
      "metadata": {
        "id": "K0EEb360MeQd"
      }
    },
    {
      "cell_type": "markdown",
      "source": [
        "**Write your pseudocode here:**\n",
        "\n",
        "\n"
      ],
      "metadata": {
        "id": "gL0bQymKSYF8"
      }
    },
    {
      "cell_type": "markdown",
      "source": [
        "class game():\n",
        "  print the board in def make_board()\n",
        "  use a list for all possible options (override the 2D list), x list for all x's and o list for all o's (using append), then reprint the board.\n",
        "  input from user\n",
        "  get player number (X or O)\n",
        "  check if the input is a valid col, then place tokeen\n",
        "  check if game can have a winner (while loop),\n",
        "  check horizontal, vertical, and diagonal for matching tokens\n",
        "  if True, game moves on. Else, stop game and call tie"
      ],
      "metadata": {
        "id": "wHdKahDE56hQ"
      }
    },
    {
      "cell_type": "code",
      "source": [
        "!pip install colorama"
      ],
      "metadata": {
        "colab": {
          "base_uri": "https://localhost:8080/"
        },
        "id": "jEeU_41-dZcr",
        "outputId": "fddd9124-78a2-4d5b-c157-28aa92ff4aa8"
      },
      "execution_count": null,
      "outputs": [
        {
          "output_type": "stream",
          "name": "stdout",
          "text": [
            "Looking in indexes: https://pypi.org/simple, https://us-python.pkg.dev/colab-wheels/public/simple/\n",
            "Collecting colorama\n",
            "  Downloading colorama-0.4.6-py2.py3-none-any.whl (25 kB)\n",
            "Installing collected packages: colorama\n",
            "Successfully installed colorama-0.4.6\n"
          ]
        }
      ]
    },
    {
      "cell_type": "code",
      "source": [
        "# Write your code here:\n",
        "\n",
        "import colorama\n",
        "from colorama import Fore\n",
        "\n",
        "class game():\n",
        "\n",
        "  def __init__(self): #this is creating our board that is a 2D list\n",
        "    self.board = [['|_|' for _ in range(7)] for _ in (range(6))]\n",
        "    self.letter = ''\n",
        "    self.player = ''\n",
        "\n",
        "  def __repr__(self): #this is printing our board\n",
        "    for row in self.board:\n",
        "      print(''.join(row))\n",
        "\n",
        "  def player_turn(self, turn):\n",
        "    if turn%2 == 0:\n",
        "      self.letter = Fore.RED + '|X|' + Fore.RESET\n",
        "      self.player = Fore.RED + 'Player 1: Red' + Fore.RESET\n",
        "    else:\n",
        "      self.letter = Fore.YELLOW + '|O|' + Fore.RESET\n",
        "      self.player = Fore.YELLOW + 'Player 2: Yellow' + Fore.RESET\n",
        "    print(f\"{self.player}, playing {self.letter}\")\n",
        "\n",
        "  def is_valid_move(self, column): #checking if the top of the column is full\n",
        "    if 0 < column < 8:\n",
        "      row = 5\n",
        "      while row >= 0:\n",
        "      #start row = 5 then move up (option)\n",
        "        if self.board[row][column-1] == '|_|':\n",
        "          return True\n",
        "        row -= 1\n",
        "    return False\n",
        "\n",
        "  def make_move(self, column, player): #We are placing the player tokens in the board\n",
        "    row = 5\n",
        "\n",
        "    while row >= 0:\n",
        "      if self.board[row][column-1] == '|_|':\n",
        "        self.board[row][column-1] = player\n",
        "        return True\n",
        "      row -= 1\n",
        "\n",
        "  def is_winner(self, letter):\n",
        "    # Vertical checker\n",
        "    for col in range(7):\n",
        "      for row in range(3,6):\n",
        "        if (self.board[row][col] == self.board[row-1][col] == self.board[row-2][col] == self.board[row-3][col] == letter):\n",
        "          return True\n",
        "\n",
        "    # Horizontal checker\n",
        "    for row in range(6):\n",
        "      for col in range(4):\n",
        "        if (self.board[row][col] == self.board[row][col+1] == self.board[row][col+2] == self.board[row][col+3] == letter):\n",
        "          return True\n",
        "\n",
        "    #Diagonal checker\n",
        "    for row in range(3):\n",
        "      for col in range(4):\n",
        "        if (self.board[row][col] == self.board[row+1][col+1] == self.board[row+2][col+2] == self.board[row+3][col+3] == letter or\n",
        "            self.board[row+3][col] == self.board[row+2][col+1] == self.board[row+1][col+2] == self.board[row][col+3] == letter):\n",
        "          return True\n",
        "    return False\n",
        "\n",
        "  def play_game(self):\n",
        "    turn = 0\n",
        "    playOn = True\n",
        "    while playOn:\n",
        "      self.player_turn(turn)\n",
        "      self.__repr__()\n",
        "      flag = False\n",
        "      while flag == False:\n",
        "        #taking the input\n",
        "        col = input(f\"\\nWhat column would you like to put {self.letter} on? Or enter q to quit. \") #do we have to use self.letter to call the token?\n",
        "        #check that the input is a number and then change it into int finally\n",
        "        if (col.isdecimal()):\n",
        "          if (self.is_valid_move(int(col))):\n",
        "            flag = self.make_move(int(col), self.letter)\n",
        "          else:\n",
        "            print(\"\\nPlease choose a column that is not full and out of bounds.\")\n",
        "        else:\n",
        "          if(col == \"q\"):\n",
        "            playOn = False\n",
        "            break\n",
        "          print(\"\\nPlease enter an integer from 1 to 7\")\n",
        "        self.__repr__()\n",
        "      if (flag == True):\n",
        "        turn += 1\n",
        "      #now checking for a win\n",
        "      if self.is_winner(self.letter):\n",
        "        print(f\"\\n{self.player} has won! \\u2665\")\n",
        "        playOn = False\n",
        "        break\n",
        "      print()"
      ],
      "metadata": {
        "id": "Q4TXA2vJcSSt"
      },
      "execution_count": null,
      "outputs": []
    },
    {
      "cell_type": "code",
      "source": [
        "game = game()\n",
        "game.play_game()"
      ],
      "metadata": {
        "colab": {
          "base_uri": "https://localhost:8080/"
        },
        "id": "peinXFQJdgMT",
        "outputId": "4ff76446-c823-4ed1-f5d2-0f1fc043adeb"
      },
      "execution_count": null,
      "outputs": [
        {
          "output_type": "stream",
          "name": "stdout",
          "text": [
            "\u001b[31mPlayer 1: Red\u001b[39m, playing \u001b[31m|X|\u001b[39m\n",
            "|_||_||_||_||_||_||_|\n",
            "|_||_||_||_||_||_||_|\n",
            "|_||_||_||_||_||_||_|\n",
            "|_||_||_||_||_||_||_|\n",
            "|_||_||_||_||_||_||_|\n",
            "|_||_||_||_||_||_||_|\n",
            "\n",
            "What column would you like to put \u001b[31m|X|\u001b[39m on? Or enter q to quit. 4\n",
            "|_||_||_||_||_||_||_|\n",
            "|_||_||_||_||_||_||_|\n",
            "|_||_||_||_||_||_||_|\n",
            "|_||_||_||_||_||_||_|\n",
            "|_||_||_||_||_||_||_|\n",
            "|_||_||_|\u001b[31m|X|\u001b[39m|_||_||_|\n",
            "\n",
            "\u001b[33mPlayer 2: Yellow\u001b[39m, playing \u001b[33m|O|\u001b[39m\n",
            "|_||_||_||_||_||_||_|\n",
            "|_||_||_||_||_||_||_|\n",
            "|_||_||_||_||_||_||_|\n",
            "|_||_||_||_||_||_||_|\n",
            "|_||_||_||_||_||_||_|\n",
            "|_||_||_|\u001b[31m|X|\u001b[39m|_||_||_|\n",
            "\n",
            "What column would you like to put \u001b[33m|O|\u001b[39m on? Or enter q to quit. 5\n",
            "|_||_||_||_||_||_||_|\n",
            "|_||_||_||_||_||_||_|\n",
            "|_||_||_||_||_||_||_|\n",
            "|_||_||_||_||_||_||_|\n",
            "|_||_||_||_||_||_||_|\n",
            "|_||_||_|\u001b[31m|X|\u001b[39m\u001b[33m|O|\u001b[39m|_||_|\n",
            "\n",
            "\u001b[31mPlayer 1: Red\u001b[39m, playing \u001b[31m|X|\u001b[39m\n",
            "|_||_||_||_||_||_||_|\n",
            "|_||_||_||_||_||_||_|\n",
            "|_||_||_||_||_||_||_|\n",
            "|_||_||_||_||_||_||_|\n",
            "|_||_||_||_||_||_||_|\n",
            "|_||_||_|\u001b[31m|X|\u001b[39m\u001b[33m|O|\u001b[39m|_||_|\n",
            "\n",
            "What column would you like to put \u001b[31m|X|\u001b[39m on? Or enter q to quit. 3\n",
            "|_||_||_||_||_||_||_|\n",
            "|_||_||_||_||_||_||_|\n",
            "|_||_||_||_||_||_||_|\n",
            "|_||_||_||_||_||_||_|\n",
            "|_||_||_||_||_||_||_|\n",
            "|_||_|\u001b[31m|X|\u001b[39m\u001b[31m|X|\u001b[39m\u001b[33m|O|\u001b[39m|_||_|\n",
            "\n",
            "\u001b[33mPlayer 2: Yellow\u001b[39m, playing \u001b[33m|O|\u001b[39m\n",
            "|_||_||_||_||_||_||_|\n",
            "|_||_||_||_||_||_||_|\n",
            "|_||_||_||_||_||_||_|\n",
            "|_||_||_||_||_||_||_|\n",
            "|_||_||_||_||_||_||_|\n",
            "|_||_|\u001b[31m|X|\u001b[39m\u001b[31m|X|\u001b[39m\u001b[33m|O|\u001b[39m|_||_|\n",
            "\n",
            "What column would you like to put \u001b[33m|O|\u001b[39m on? Or enter q to quit. 4\n",
            "|_||_||_||_||_||_||_|\n",
            "|_||_||_||_||_||_||_|\n",
            "|_||_||_||_||_||_||_|\n",
            "|_||_||_||_||_||_||_|\n",
            "|_||_||_|\u001b[33m|O|\u001b[39m|_||_||_|\n",
            "|_||_|\u001b[31m|X|\u001b[39m\u001b[31m|X|\u001b[39m\u001b[33m|O|\u001b[39m|_||_|\n",
            "\n",
            "\u001b[31mPlayer 1: Red\u001b[39m, playing \u001b[31m|X|\u001b[39m\n",
            "|_||_||_||_||_||_||_|\n",
            "|_||_||_||_||_||_||_|\n",
            "|_||_||_||_||_||_||_|\n",
            "|_||_||_||_||_||_||_|\n",
            "|_||_||_|\u001b[33m|O|\u001b[39m|_||_||_|\n",
            "|_||_|\u001b[31m|X|\u001b[39m\u001b[31m|X|\u001b[39m\u001b[33m|O|\u001b[39m|_||_|\n",
            "\n",
            "What column would you like to put \u001b[31m|X|\u001b[39m on? Or enter q to quit. 3\n",
            "|_||_||_||_||_||_||_|\n",
            "|_||_||_||_||_||_||_|\n",
            "|_||_||_||_||_||_||_|\n",
            "|_||_||_||_||_||_||_|\n",
            "|_||_|\u001b[31m|X|\u001b[39m\u001b[33m|O|\u001b[39m|_||_||_|\n",
            "|_||_|\u001b[31m|X|\u001b[39m\u001b[31m|X|\u001b[39m\u001b[33m|O|\u001b[39m|_||_|\n",
            "\n",
            "\u001b[33mPlayer 2: Yellow\u001b[39m, playing \u001b[33m|O|\u001b[39m\n",
            "|_||_||_||_||_||_||_|\n",
            "|_||_||_||_||_||_||_|\n",
            "|_||_||_||_||_||_||_|\n",
            "|_||_||_||_||_||_||_|\n",
            "|_||_|\u001b[31m|X|\u001b[39m\u001b[33m|O|\u001b[39m|_||_||_|\n",
            "|_||_|\u001b[31m|X|\u001b[39m\u001b[31m|X|\u001b[39m\u001b[33m|O|\u001b[39m|_||_|\n",
            "\n",
            "What column would you like to put \u001b[33m|O|\u001b[39m on? Or enter q to quit. 3\n",
            "|_||_||_||_||_||_||_|\n",
            "|_||_||_||_||_||_||_|\n",
            "|_||_||_||_||_||_||_|\n",
            "|_||_|\u001b[33m|O|\u001b[39m|_||_||_||_|\n",
            "|_||_|\u001b[31m|X|\u001b[39m\u001b[33m|O|\u001b[39m|_||_||_|\n",
            "|_||_|\u001b[31m|X|\u001b[39m\u001b[31m|X|\u001b[39m\u001b[33m|O|\u001b[39m|_||_|\n",
            "\n",
            "\u001b[31mPlayer 1: Red\u001b[39m, playing \u001b[31m|X|\u001b[39m\n",
            "|_||_||_||_||_||_||_|\n",
            "|_||_||_||_||_||_||_|\n",
            "|_||_||_||_||_||_||_|\n",
            "|_||_|\u001b[33m|O|\u001b[39m|_||_||_||_|\n",
            "|_||_|\u001b[31m|X|\u001b[39m\u001b[33m|O|\u001b[39m|_||_||_|\n",
            "|_||_|\u001b[31m|X|\u001b[39m\u001b[31m|X|\u001b[39m\u001b[33m|O|\u001b[39m|_||_|\n",
            "\n",
            "What column would you like to put \u001b[31m|X|\u001b[39m on? Or enter q to quit. 2\n",
            "|_||_||_||_||_||_||_|\n",
            "|_||_||_||_||_||_||_|\n",
            "|_||_||_||_||_||_||_|\n",
            "|_||_|\u001b[33m|O|\u001b[39m|_||_||_||_|\n",
            "|_||_|\u001b[31m|X|\u001b[39m\u001b[33m|O|\u001b[39m|_||_||_|\n",
            "|_|\u001b[31m|X|\u001b[39m\u001b[31m|X|\u001b[39m\u001b[31m|X|\u001b[39m\u001b[33m|O|\u001b[39m|_||_|\n",
            "\n",
            "\u001b[33mPlayer 2: Yellow\u001b[39m, playing \u001b[33m|O|\u001b[39m\n",
            "|_||_||_||_||_||_||_|\n",
            "|_||_||_||_||_||_||_|\n",
            "|_||_||_||_||_||_||_|\n",
            "|_||_|\u001b[33m|O|\u001b[39m|_||_||_||_|\n",
            "|_||_|\u001b[31m|X|\u001b[39m\u001b[33m|O|\u001b[39m|_||_||_|\n",
            "|_|\u001b[31m|X|\u001b[39m\u001b[31m|X|\u001b[39m\u001b[31m|X|\u001b[39m\u001b[33m|O|\u001b[39m|_||_|\n",
            "\n",
            "What column would you like to put \u001b[33m|O|\u001b[39m on? Or enter q to quit. 2\n",
            "|_||_||_||_||_||_||_|\n",
            "|_||_||_||_||_||_||_|\n",
            "|_||_||_||_||_||_||_|\n",
            "|_||_|\u001b[33m|O|\u001b[39m|_||_||_||_|\n",
            "|_|\u001b[33m|O|\u001b[39m\u001b[31m|X|\u001b[39m\u001b[33m|O|\u001b[39m|_||_||_|\n",
            "|_|\u001b[31m|X|\u001b[39m\u001b[31m|X|\u001b[39m\u001b[31m|X|\u001b[39m\u001b[33m|O|\u001b[39m|_||_|\n",
            "\n",
            "\u001b[31mPlayer 1: Red\u001b[39m, playing \u001b[31m|X|\u001b[39m\n",
            "|_||_||_||_||_||_||_|\n",
            "|_||_||_||_||_||_||_|\n",
            "|_||_||_||_||_||_||_|\n",
            "|_||_|\u001b[33m|O|\u001b[39m|_||_||_||_|\n",
            "|_|\u001b[33m|O|\u001b[39m\u001b[31m|X|\u001b[39m\u001b[33m|O|\u001b[39m|_||_||_|\n",
            "|_|\u001b[31m|X|\u001b[39m\u001b[31m|X|\u001b[39m\u001b[31m|X|\u001b[39m\u001b[33m|O|\u001b[39m|_||_|\n",
            "\n",
            "What column would you like to put \u001b[31m|X|\u001b[39m on? Or enter q to quit. 2\n",
            "|_||_||_||_||_||_||_|\n",
            "|_||_||_||_||_||_||_|\n",
            "|_||_||_||_||_||_||_|\n",
            "|_|\u001b[31m|X|\u001b[39m\u001b[33m|O|\u001b[39m|_||_||_||_|\n",
            "|_|\u001b[33m|O|\u001b[39m\u001b[31m|X|\u001b[39m\u001b[33m|O|\u001b[39m|_||_||_|\n",
            "|_|\u001b[31m|X|\u001b[39m\u001b[31m|X|\u001b[39m\u001b[31m|X|\u001b[39m\u001b[33m|O|\u001b[39m|_||_|\n",
            "\n",
            "\u001b[33mPlayer 2: Yellow\u001b[39m, playing \u001b[33m|O|\u001b[39m\n",
            "|_||_||_||_||_||_||_|\n",
            "|_||_||_||_||_||_||_|\n",
            "|_||_||_||_||_||_||_|\n",
            "|_|\u001b[31m|X|\u001b[39m\u001b[33m|O|\u001b[39m|_||_||_||_|\n",
            "|_|\u001b[33m|O|\u001b[39m\u001b[31m|X|\u001b[39m\u001b[33m|O|\u001b[39m|_||_||_|\n",
            "|_|\u001b[31m|X|\u001b[39m\u001b[31m|X|\u001b[39m\u001b[31m|X|\u001b[39m\u001b[33m|O|\u001b[39m|_||_|\n",
            "\n",
            "What column would you like to put \u001b[33m|O|\u001b[39m on? Or enter q to quit. 2\n",
            "|_||_||_||_||_||_||_|\n",
            "|_||_||_||_||_||_||_|\n",
            "|_|\u001b[33m|O|\u001b[39m|_||_||_||_||_|\n",
            "|_|\u001b[31m|X|\u001b[39m\u001b[33m|O|\u001b[39m|_||_||_||_|\n",
            "|_|\u001b[33m|O|\u001b[39m\u001b[31m|X|\u001b[39m\u001b[33m|O|\u001b[39m|_||_||_|\n",
            "|_|\u001b[31m|X|\u001b[39m\u001b[31m|X|\u001b[39m\u001b[31m|X|\u001b[39m\u001b[33m|O|\u001b[39m|_||_|\n",
            "\n",
            "\u001b[33mPlayer 2: Yellow\u001b[39m has won! ♥\n"
          ]
        }
      ]
    },
    {
      "cell_type": "markdown",
      "source": [
        "## Reference\n",
        "\n",
        "1. https://www.simplilearn.com/tutorials/programming-tutorial/problem-solving-in-programming\n",
        "2. https://www.cbc.ca/kids/games/all/connect-4"
      ],
      "metadata": {
        "id": "acbpN3SNNHkz"
      }
    }
  ]
}